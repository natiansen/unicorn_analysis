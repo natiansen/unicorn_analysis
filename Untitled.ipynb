{
 "cells": [
  {
   "cell_type": "code",
   "execution_count": 47,
   "id": "d9a953de",
   "metadata": {},
   "outputs": [],
   "source": [
    "import pandas as pd\n",
    "import numpy as np\n",
    "import matplotlib.pyplot as plt\n",
    "%matplotlib inline\n",
    "import seaborn as sns\n",
    "import datetime"
   ]
  },
  {
   "cell_type": "code",
   "execution_count": 48,
   "id": "682fb8b8",
   "metadata": {},
   "outputs": [
    {
     "data": {
      "text/html": [
       "<div>\n",
       "<style scoped>\n",
       "    .dataframe tbody tr th:only-of-type {\n",
       "        vertical-align: middle;\n",
       "    }\n",
       "\n",
       "    .dataframe tbody tr th {\n",
       "        vertical-align: top;\n",
       "    }\n",
       "\n",
       "    .dataframe thead th {\n",
       "        text-align: right;\n",
       "    }\n",
       "</style>\n",
       "<table border=\"1\" class=\"dataframe\">\n",
       "  <thead>\n",
       "    <tr style=\"text-align: right;\">\n",
       "      <th></th>\n",
       "      <th>Company</th>\n",
       "      <th>Valuation ($B)</th>\n",
       "      <th>Date Added</th>\n",
       "      <th>Country</th>\n",
       "      <th>Category</th>\n",
       "      <th>Select Investors</th>\n",
       "    </tr>\n",
       "  </thead>\n",
       "  <tbody>\n",
       "    <tr>\n",
       "      <th>0</th>\n",
       "      <td>Bytedance</td>\n",
       "      <td>$140.00</td>\n",
       "      <td>4/7/17</td>\n",
       "      <td>China</td>\n",
       "      <td>Artificial intelligence</td>\n",
       "      <td>Sequoia Capital China, SIG Asia Investments, S...</td>\n",
       "    </tr>\n",
       "    <tr>\n",
       "      <th>1</th>\n",
       "      <td>SpaceX</td>\n",
       "      <td>$100.30</td>\n",
       "      <td>12/1/12</td>\n",
       "      <td>United States</td>\n",
       "      <td>Other</td>\n",
       "      <td>Founders Fund, Draper Fisher Jurvetson, Rothen...</td>\n",
       "    </tr>\n",
       "    <tr>\n",
       "      <th>2</th>\n",
       "      <td>Stripe</td>\n",
       "      <td>$95.00</td>\n",
       "      <td>1/23/14</td>\n",
       "      <td>United States</td>\n",
       "      <td>Fintech</td>\n",
       "      <td>Khosla Ventures, LowercaseCapital, capitalG</td>\n",
       "    </tr>\n",
       "    <tr>\n",
       "      <th>3</th>\n",
       "      <td>Klarna</td>\n",
       "      <td>$45.60</td>\n",
       "      <td>12/12/11</td>\n",
       "      <td>Sweden</td>\n",
       "      <td>Fintech</td>\n",
       "      <td>Institutional Venture Partners, Sequoia Capita...</td>\n",
       "    </tr>\n",
       "    <tr>\n",
       "      <th>4</th>\n",
       "      <td>Canva</td>\n",
       "      <td>$40.00</td>\n",
       "      <td>1/8/18</td>\n",
       "      <td>Australia</td>\n",
       "      <td>Internet software &amp; services</td>\n",
       "      <td>Sequoia Capital China, Blackbird Ventures, Mat...</td>\n",
       "    </tr>\n",
       "  </tbody>\n",
       "</table>\n",
       "</div>"
      ],
      "text/plain": [
       "     Company Valuation ($B)  Date Added        Country  \\\n",
       "0  Bytedance         $140.00     4/7/17          China   \n",
       "1     SpaceX         $100.30    12/1/12  United States   \n",
       "2     Stripe          $95.00    1/23/14  United States   \n",
       "3     Klarna          $45.60   12/12/11         Sweden   \n",
       "4      Canva          $40.00     1/8/18      Australia   \n",
       "\n",
       "                       Category  \\\n",
       "0       Artificial intelligence   \n",
       "1                         Other   \n",
       "2                       Fintech   \n",
       "3                       Fintech   \n",
       "4  Internet software & services   \n",
       "\n",
       "                                    Select Investors  \n",
       "0  Sequoia Capital China, SIG Asia Investments, S...  \n",
       "1  Founders Fund, Draper Fisher Jurvetson, Rothen...  \n",
       "2        Khosla Ventures, LowercaseCapital, capitalG  \n",
       "3  Institutional Venture Partners, Sequoia Capita...  \n",
       "4  Sequoia Capital China, Blackbird Ventures, Mat...  "
      ]
     },
     "execution_count": 48,
     "metadata": {},
     "output_type": "execute_result"
    }
   ],
   "source": [
    "df = pd.read_csv('unicorn_companies.csv')\n",
    "df.head()"
   ]
  },
  {
   "cell_type": "markdown",
   "id": "62176fdd",
   "metadata": {},
   "source": [
    "Check the features' datatypes"
   ]
  },
  {
   "cell_type": "code",
   "execution_count": 49,
   "id": "68d7d46b",
   "metadata": {},
   "outputs": [
    {
     "data": {
      "text/plain": [
       "Company             object\n",
       "Valuation ($B)      object\n",
       "Date Added          object\n",
       "Country             object\n",
       "Category            object\n",
       "Select Investors    object\n",
       "dtype: object"
      ]
     },
     "execution_count": 49,
     "metadata": {},
     "output_type": "execute_result"
    }
   ],
   "source": [
    "df.dtypes"
   ]
  },
  {
   "cell_type": "markdown",
   "id": "fe77a4df",
   "metadata": {},
   "source": [
    "Based on the data in the set, we can transform Valuation and Date Added to float and date formats respectively to have more flexibility in the available manipulations."
   ]
  },
  {
   "cell_type": "code",
   "execution_count": 50,
   "id": "a05b223d",
   "metadata": {},
   "outputs": [
    {
     "name": "stderr",
     "output_type": "stream",
     "text": [
      "/var/folders/4k/p82h_fr17cj28l5580_79wp80000gn/T/ipykernel_2502/1974450614.py:1: FutureWarning: The default value of regex will change from True to False in a future version. In addition, single character regular expressions will *not* be treated as literal strings when regex=True.\n",
      "  df['Valuation ($B) '] = df['Valuation ($B) '].str.replace('$','').astype('float')\n"
     ]
    },
    {
     "data": {
      "text/plain": [
       "Company                     object\n",
       "Valuation ($B)             float64\n",
       "Date Added          datetime64[ns]\n",
       "Country                     object\n",
       "Category                    object\n",
       "Select Investors            object\n",
       "dtype: object"
      ]
     },
     "execution_count": 50,
     "metadata": {},
     "output_type": "execute_result"
    }
   ],
   "source": [
    "df['Valuation ($B) '] = df['Valuation ($B) '].str.replace('$','').astype('float')\n",
    "df['Date Added'] = pd.to_datetime(df['Date Added'])\n",
    "df.dtypes"
   ]
  },
  {
   "cell_type": "markdown",
   "id": "0d0c3942",
   "metadata": {},
   "source": [
    "To do analysis based on the investors, let's unnest Select Investors column and create a new dataframe."
   ]
  },
  {
   "cell_type": "code",
   "execution_count": 51,
   "id": "7ea299dd",
   "metadata": {},
   "outputs": [
    {
     "data": {
      "text/html": [
       "<div>\n",
       "<style scoped>\n",
       "    .dataframe tbody tr th:only-of-type {\n",
       "        vertical-align: middle;\n",
       "    }\n",
       "\n",
       "    .dataframe tbody tr th {\n",
       "        vertical-align: top;\n",
       "    }\n",
       "\n",
       "    .dataframe thead th {\n",
       "        text-align: right;\n",
       "    }\n",
       "</style>\n",
       "<table border=\"1\" class=\"dataframe\">\n",
       "  <thead>\n",
       "    <tr style=\"text-align: right;\">\n",
       "      <th></th>\n",
       "      <th>Company</th>\n",
       "      <th>Valuation ($B)</th>\n",
       "      <th>Date Added</th>\n",
       "      <th>Country</th>\n",
       "      <th>Category</th>\n",
       "      <th>Select Investors</th>\n",
       "    </tr>\n",
       "  </thead>\n",
       "  <tbody>\n",
       "    <tr>\n",
       "      <th>0</th>\n",
       "      <td>Bytedance</td>\n",
       "      <td>140.0</td>\n",
       "      <td>2017-04-07</td>\n",
       "      <td>China</td>\n",
       "      <td>Artificial intelligence</td>\n",
       "      <td>Sequoia Capital China</td>\n",
       "    </tr>\n",
       "    <tr>\n",
       "      <th>1</th>\n",
       "      <td>Bytedance</td>\n",
       "      <td>140.0</td>\n",
       "      <td>2017-04-07</td>\n",
       "      <td>China</td>\n",
       "      <td>Artificial intelligence</td>\n",
       "      <td>SIG Asia Investments</td>\n",
       "    </tr>\n",
       "    <tr>\n",
       "      <th>2</th>\n",
       "      <td>Bytedance</td>\n",
       "      <td>140.0</td>\n",
       "      <td>2017-04-07</td>\n",
       "      <td>China</td>\n",
       "      <td>Artificial intelligence</td>\n",
       "      <td>Sina Weibo</td>\n",
       "    </tr>\n",
       "    <tr>\n",
       "      <th>3</th>\n",
       "      <td>Bytedance</td>\n",
       "      <td>140.0</td>\n",
       "      <td>2017-04-07</td>\n",
       "      <td>China</td>\n",
       "      <td>Artificial intelligence</td>\n",
       "      <td>Softbank Group</td>\n",
       "    </tr>\n",
       "    <tr>\n",
       "      <th>4</th>\n",
       "      <td>SpaceX</td>\n",
       "      <td>100.3</td>\n",
       "      <td>2012-12-01</td>\n",
       "      <td>United States</td>\n",
       "      <td>Other</td>\n",
       "      <td>Founders Fund</td>\n",
       "    </tr>\n",
       "    <tr>\n",
       "      <th>5</th>\n",
       "      <td>SpaceX</td>\n",
       "      <td>100.3</td>\n",
       "      <td>2012-12-01</td>\n",
       "      <td>United States</td>\n",
       "      <td>Other</td>\n",
       "      <td>Draper Fisher Jurvetson</td>\n",
       "    </tr>\n",
       "    <tr>\n",
       "      <th>6</th>\n",
       "      <td>SpaceX</td>\n",
       "      <td>100.3</td>\n",
       "      <td>2012-12-01</td>\n",
       "      <td>United States</td>\n",
       "      <td>Other</td>\n",
       "      <td>Rothenberg Ventures</td>\n",
       "    </tr>\n",
       "    <tr>\n",
       "      <th>7</th>\n",
       "      <td>Stripe</td>\n",
       "      <td>95.0</td>\n",
       "      <td>2014-01-23</td>\n",
       "      <td>United States</td>\n",
       "      <td>Fintech</td>\n",
       "      <td>Khosla Ventures</td>\n",
       "    </tr>\n",
       "    <tr>\n",
       "      <th>8</th>\n",
       "      <td>Stripe</td>\n",
       "      <td>95.0</td>\n",
       "      <td>2014-01-23</td>\n",
       "      <td>United States</td>\n",
       "      <td>Fintech</td>\n",
       "      <td>LowercaseCapital</td>\n",
       "    </tr>\n",
       "    <tr>\n",
       "      <th>9</th>\n",
       "      <td>Stripe</td>\n",
       "      <td>95.0</td>\n",
       "      <td>2014-01-23</td>\n",
       "      <td>United States</td>\n",
       "      <td>Fintech</td>\n",
       "      <td>capitalG</td>\n",
       "    </tr>\n",
       "    <tr>\n",
       "      <th>10</th>\n",
       "      <td>Klarna</td>\n",
       "      <td>45.6</td>\n",
       "      <td>2011-12-12</td>\n",
       "      <td>Sweden</td>\n",
       "      <td>Fintech</td>\n",
       "      <td>Institutional Venture Partners</td>\n",
       "    </tr>\n",
       "    <tr>\n",
       "      <th>11</th>\n",
       "      <td>Klarna</td>\n",
       "      <td>45.6</td>\n",
       "      <td>2011-12-12</td>\n",
       "      <td>Sweden</td>\n",
       "      <td>Fintech</td>\n",
       "      <td>Sequoia Capital</td>\n",
       "    </tr>\n",
       "    <tr>\n",
       "      <th>12</th>\n",
       "      <td>Klarna</td>\n",
       "      <td>45.6</td>\n",
       "      <td>2011-12-12</td>\n",
       "      <td>Sweden</td>\n",
       "      <td>Fintech</td>\n",
       "      <td>General Atlantic</td>\n",
       "    </tr>\n",
       "    <tr>\n",
       "      <th>13</th>\n",
       "      <td>Canva</td>\n",
       "      <td>40.0</td>\n",
       "      <td>2018-01-08</td>\n",
       "      <td>Australia</td>\n",
       "      <td>Internet software &amp; services</td>\n",
       "      <td>Sequoia Capital China</td>\n",
       "    </tr>\n",
       "    <tr>\n",
       "      <th>14</th>\n",
       "      <td>Canva</td>\n",
       "      <td>40.0</td>\n",
       "      <td>2018-01-08</td>\n",
       "      <td>Australia</td>\n",
       "      <td>Internet software &amp; services</td>\n",
       "      <td>Blackbird Ventures</td>\n",
       "    </tr>\n",
       "    <tr>\n",
       "      <th>15</th>\n",
       "      <td>Canva</td>\n",
       "      <td>40.0</td>\n",
       "      <td>2018-01-08</td>\n",
       "      <td>Australia</td>\n",
       "      <td>Internet software &amp; services</td>\n",
       "      <td>Matrix Partners</td>\n",
       "    </tr>\n",
       "    <tr>\n",
       "      <th>16</th>\n",
       "      <td>Instacart</td>\n",
       "      <td>39.0</td>\n",
       "      <td>2014-12-30</td>\n",
       "      <td>United States</td>\n",
       "      <td>Supply chain, logistics, &amp; delivery</td>\n",
       "      <td>Khosla Ventures</td>\n",
       "    </tr>\n",
       "    <tr>\n",
       "      <th>17</th>\n",
       "      <td>Instacart</td>\n",
       "      <td>39.0</td>\n",
       "      <td>2014-12-30</td>\n",
       "      <td>United States</td>\n",
       "      <td>Supply chain, logistics, &amp; delivery</td>\n",
       "      <td>Kleiner Perkins Caufield &amp; Byers</td>\n",
       "    </tr>\n",
       "    <tr>\n",
       "      <th>18</th>\n",
       "      <td>Instacart</td>\n",
       "      <td>39.0</td>\n",
       "      <td>2014-12-30</td>\n",
       "      <td>United States</td>\n",
       "      <td>Supply chain, logistics, &amp; delivery</td>\n",
       "      <td>Collaborative Fund</td>\n",
       "    </tr>\n",
       "    <tr>\n",
       "      <th>19</th>\n",
       "      <td>Databricks</td>\n",
       "      <td>38.0</td>\n",
       "      <td>2019-02-05</td>\n",
       "      <td>United States</td>\n",
       "      <td>Data management &amp; analytics</td>\n",
       "      <td>Andreessen Horowitz</td>\n",
       "    </tr>\n",
       "  </tbody>\n",
       "</table>\n",
       "</div>"
      ],
      "text/plain": [
       "       Company  Valuation ($B)  Date Added        Country  \\\n",
       "0    Bytedance            140.0 2017-04-07          China   \n",
       "1    Bytedance            140.0 2017-04-07          China   \n",
       "2    Bytedance            140.0 2017-04-07          China   \n",
       "3    Bytedance            140.0 2017-04-07          China   \n",
       "4       SpaceX            100.3 2012-12-01  United States   \n",
       "5       SpaceX            100.3 2012-12-01  United States   \n",
       "6       SpaceX            100.3 2012-12-01  United States   \n",
       "7       Stripe             95.0 2014-01-23  United States   \n",
       "8       Stripe             95.0 2014-01-23  United States   \n",
       "9       Stripe             95.0 2014-01-23  United States   \n",
       "10      Klarna             45.6 2011-12-12         Sweden   \n",
       "11      Klarna             45.6 2011-12-12         Sweden   \n",
       "12      Klarna             45.6 2011-12-12         Sweden   \n",
       "13       Canva             40.0 2018-01-08      Australia   \n",
       "14       Canva             40.0 2018-01-08      Australia   \n",
       "15       Canva             40.0 2018-01-08      Australia   \n",
       "16   Instacart             39.0 2014-12-30  United States   \n",
       "17   Instacart             39.0 2014-12-30  United States   \n",
       "18   Instacart             39.0 2014-12-30  United States   \n",
       "19  Databricks             38.0 2019-02-05  United States   \n",
       "\n",
       "                               Category                  Select Investors  \n",
       "0               Artificial intelligence             Sequoia Capital China  \n",
       "1               Artificial intelligence              SIG Asia Investments  \n",
       "2               Artificial intelligence                        Sina Weibo  \n",
       "3               Artificial intelligence                    Softbank Group  \n",
       "4                                 Other                     Founders Fund  \n",
       "5                                 Other           Draper Fisher Jurvetson  \n",
       "6                                 Other               Rothenberg Ventures  \n",
       "7                               Fintech                   Khosla Ventures  \n",
       "8                               Fintech                  LowercaseCapital  \n",
       "9                               Fintech                          capitalG  \n",
       "10                              Fintech    Institutional Venture Partners  \n",
       "11                              Fintech                   Sequoia Capital  \n",
       "12                              Fintech                  General Atlantic  \n",
       "13         Internet software & services             Sequoia Capital China  \n",
       "14         Internet software & services                Blackbird Ventures  \n",
       "15         Internet software & services                   Matrix Partners  \n",
       "16  Supply chain, logistics, & delivery                   Khosla Ventures  \n",
       "17  Supply chain, logistics, & delivery  Kleiner Perkins Caufield & Byers  \n",
       "18  Supply chain, logistics, & delivery                Collaborative Fund  \n",
       "19          Data management & analytics               Andreessen Horowitz  "
      ]
     },
     "execution_count": 51,
     "metadata": {},
     "output_type": "execute_result"
    }
   ],
   "source": [
    "df['Select Investors'] = df['Select Investors'].str.split(', ')\n",
    "df_investors = df.explode('Select Investors').reset_index(drop=True)\n",
    "df_investors.head(10)"
   ]
  },
  {
   "cell_type": "markdown",
   "id": "ab3ba510",
   "metadata": {},
   "source": [
    "Let's check categorical values to make sure there are no mistakes."
   ]
  },
  {
   "cell_type": "code",
   "execution_count": 52,
   "id": "8f15fe74",
   "metadata": {},
   "outputs": [
    {
     "name": "stdout",
     "output_type": "stream",
     "text": [
      "['Artificial intelligence' 'Other' 'Fintech'\n",
      " 'Internet software & services' 'Supply chain, logistics, & delivery'\n",
      " 'Data management & analytics' 'Edtech' 'E-commerce & direct-to-consumer'\n",
      " 'Hardware' 'Auto & transportation' 'Health' 'Consumer & retail'\n",
      " 'Finttech' 'Travel' 'Cybersecurity' 'Mobile & telecommunications'\n",
      " 'Artificial Intelligence'] \n",
      " 17\n"
     ]
    }
   ],
   "source": [
    "print(df['Category'].unique(), '\\n Unique number of Category values',len(df['Category'].unique()))"
   ]
  },
  {
   "cell_type": "markdown",
   "id": "0218a4fe",
   "metadata": {},
   "source": [
    "We have two pair of ligically equal values with some mistakes in spelling:\n",
    "- 'Artificial intelligence' / 'Artificial Intelligence'\n",
    "- 'Fintech' / 'Finttech'\n",
    "\n",
    "Let's replace them with uniform values."
   ]
  },
  {
   "cell_type": "code",
   "execution_count": 53,
   "id": "bad03828",
   "metadata": {},
   "outputs": [
    {
     "name": "stdout",
     "output_type": "stream",
     "text": [
      "['Artificial Intelligence' 'Other' 'Fintech'\n",
      " 'Internet software & services' 'Supply chain, logistics, & delivery'\n",
      " 'Data management & analytics' 'Edtech' 'E-commerce & direct-to-consumer'\n",
      " 'Hardware' 'Auto & transportation' 'Health' 'Consumer & retail' 'Travel'\n",
      " 'Cybersecurity' 'Mobile & telecommunications'] \n",
      " 15\n"
     ]
    }
   ],
   "source": [
    "df['Category'] = df['Category'].replace('Artificial intelligence', 'Artificial Intelligence')\n",
    "df['Category'] = df['Category'].replace('Finttech', 'Fintech')\n",
    "print(df['Category'].unique(), '\\n Unique number of Category values after cleansing',len(df['Category'].unique()))"
   ]
  },
  {
   "cell_type": "markdown",
   "id": "4258872b",
   "metadata": {},
   "source": [
    "Same with the countries:"
   ]
  },
  {
   "cell_type": "code",
   "execution_count": 54,
   "id": "74a36d4a",
   "metadata": {},
   "outputs": [
    {
     "name": "stdout",
     "output_type": "stream",
     "text": [
      "['China' 'United States' 'Sweden' 'Australia' 'United Kingdom' 'Brazil'\n",
      " 'Hong Kong' 'India' 'Singapore' 'Germany' 'Mexico' 'Indonesia' 'Canada'\n",
      " 'Turkey' 'South Korea' 'Netherlands' 'Israel' 'Colombia' 'Belgium'\n",
      " 'Estonia' 'Lithuania' 'France' 'Austria' 'Ireland' 'Vietnam'\n",
      " 'United Arab Emirates' 'Switzerland' 'Argentina' 'Japan' 'Luxembourg'\n",
      " 'Nigeria' 'Santa Clara' 'Finland' 'Philippines' 'Denmark' 'Senegal'\n",
      " 'Bermuda' 'Norway' 'South Africa' 'Chile' 'Thailand' 'Spain' 'Malaysia'\n",
      " 'Czech Republic' 'Croatia' 'United States,' 'Indonesia,'] \n",
      " Unique number of Country values 47\n",
      "\n",
      " Unique number of Country values after cleaning 45\n"
     ]
    }
   ],
   "source": [
    "print(df['Country'].unique(), '\\n Unique number of Country values',len(df['Country'].unique()))\n",
    "df['Country'] = df['Country'].replace('United States,', 'United States')\n",
    "df['Country'] = df['Country'].replace('Indonesia,', 'Indonesia')\n",
    "print('\\n Unique number of Country values after cleansing',len(df['Country'].unique()))"
   ]
  },
  {
   "cell_type": "code",
   "execution_count": 58,
   "id": "ad51add4",
   "metadata": {},
   "outputs": [
    {
     "data": {
      "text/plain": [
       "Text(0.5, 0, 'Date')"
      ]
     },
     "execution_count": 58,
     "metadata": {},
     "output_type": "execute_result"
    },
    {
     "data": {
      "image/png": "[encoded data removed]",
      "text/plain": [
       "<Figure size 1008x432 with 1 Axes>"
      ]
     },
     "metadata": {
      "needs_background": "light"
     },
     "output_type": "display_data"
    }
   ],
   "source": [
    "plt.figure(figsize=(14,6))\n",
    "\n",
    "#plt.title(\"\")\n",
    "\n",
    "sns.lineplot(x='Date Added',y='Valuation ($B) ',data=df)\n",
    "\n",
    "plt.xlabel(\"Date\")"
   ]
  },
  {
   "cell_type": "markdown",
   "id": "81a911a0",
   "metadata": {},
   "source": [
    "Top 5 investors in unicorn companies"
   ]
  },
  {
   "cell_type": "code",
   "execution_count": 64,
   "id": "90a0a736",
   "metadata": {},
   "outputs": [
    {
     "data": {
      "text/html": [
       "<div>\n",
       "<style scoped>\n",
       "    .dataframe tbody tr th:only-of-type {\n",
       "        vertical-align: middle;\n",
       "    }\n",
       "\n",
       "    .dataframe tbody tr th {\n",
       "        vertical-align: top;\n",
       "    }\n",
       "\n",
       "    .dataframe thead th {\n",
       "        text-align: right;\n",
       "    }\n",
       "</style>\n",
       "<table border=\"1\" class=\"dataframe\">\n",
       "  <thead>\n",
       "    <tr style=\"text-align: right;\">\n",
       "      <th></th>\n",
       "      <th>Select Investors</th>\n",
       "      <th>Company</th>\n",
       "    </tr>\n",
       "  </thead>\n",
       "  <tbody>\n",
       "    <tr>\n",
       "      <th>23</th>\n",
       "      <td>Accel</td>\n",
       "      <td>49</td>\n",
       "    </tr>\n",
       "    <tr>\n",
       "      <th>872</th>\n",
       "      <td>Sequoia Capital China</td>\n",
       "      <td>47</td>\n",
       "    </tr>\n",
       "    <tr>\n",
       "      <th>993</th>\n",
       "      <td>Tiger Global Management</td>\n",
       "      <td>41</td>\n",
       "    </tr>\n",
       "    <tr>\n",
       "      <th>871</th>\n",
       "      <td>Sequoia Capital</td>\n",
       "      <td>40</td>\n",
       "    </tr>\n",
       "    <tr>\n",
       "      <th>73</th>\n",
       "      <td>Andreessen Horowitz</td>\n",
       "      <td>38</td>\n",
       "    </tr>\n",
       "  </tbody>\n",
       "</table>\n",
       "</div>"
      ],
      "text/plain": [
       "            Select Investors  Company\n",
       "23                     Accel       49\n",
       "872    Sequoia Capital China       47\n",
       "993  Tiger Global Management       41\n",
       "871          Sequoia Capital       40\n",
       "73       Andreessen Horowitz       38"
      ]
     },
     "execution_count": 64,
     "metadata": {},
     "output_type": "execute_result"
    }
   ],
   "source": [
    "df_investors1 = df_investors[['Select Investors', 'Company']].groupby(['Select Investors'], as_index = False).count()\n",
    "df_investors1 = df_investors1.sort_values(ascending=False, by='Company')\n",
    "df_investors1.head()"
   ]
  },
  {
   "cell_type": "markdown",
   "id": "87b5c5ef",
   "metadata": {},
   "source": [
    "Top 5 countries by unicorn companies"
   ]
  },
  {
   "cell_type": "code",
   "execution_count": 66,
   "id": "d424e685",
   "metadata": {},
   "outputs": [
    {
     "data": {
      "text/html": [
       "<div>\n",
       "<style scoped>\n",
       "    .dataframe tbody tr th:only-of-type {\n",
       "        vertical-align: middle;\n",
       "    }\n",
       "\n",
       "    .dataframe tbody tr th {\n",
       "        vertical-align: top;\n",
       "    }\n",
       "\n",
       "    .dataframe thead th {\n",
       "        text-align: right;\n",
       "    }\n",
       "</style>\n",
       "<table border=\"1\" class=\"dataframe\">\n",
       "  <thead>\n",
       "    <tr style=\"text-align: right;\">\n",
       "      <th></th>\n",
       "      <th>Country</th>\n",
       "      <th>Company</th>\n",
       "    </tr>\n",
       "  </thead>\n",
       "  <tbody>\n",
       "    <tr>\n",
       "      <th>43</th>\n",
       "      <td>United States</td>\n",
       "      <td>470</td>\n",
       "    </tr>\n",
       "    <tr>\n",
       "      <th>8</th>\n",
       "      <td>China</td>\n",
       "      <td>169</td>\n",
       "    </tr>\n",
       "    <tr>\n",
       "      <th>18</th>\n",
       "      <td>India</td>\n",
       "      <td>48</td>\n",
       "    </tr>\n",
       "    <tr>\n",
       "      <th>42</th>\n",
       "      <td>United Kingdom</td>\n",
       "      <td>34</td>\n",
       "    </tr>\n",
       "    <tr>\n",
       "      <th>16</th>\n",
       "      <td>Germany</td>\n",
       "      <td>22</td>\n",
       "    </tr>\n",
       "  </tbody>\n",
       "</table>\n",
       "</div>"
      ],
      "text/plain": [
       "           Country  Company\n",
       "43   United States      470\n",
       "8            China      169\n",
       "18           India       48\n",
       "42  United Kingdom       34\n",
       "16         Germany       22"
      ]
     },
     "execution_count": 66,
     "metadata": {},
     "output_type": "execute_result"
    }
   ],
   "source": [
    "df_countries = df[['Country', 'Company']].groupby(['Country'], as_index = False).count()\n",
    "df_countries = df_countries.sort_values(ascending=False, by='Company')\n",
    "df_countries.head()"
   ]
  },
  {
   "cell_type": "code",
   "execution_count": 78,
   "id": "5fbba62e",
   "metadata": {},
   "outputs": [
    {
     "data": {
      "text/plain": [
       "(1, 179.23979455914207)"
      ]
     },
     "execution_count": 78,
     "metadata": {},
     "output_type": "execute_result"
    },
    {
     "data": {
      "image/png": "[encoded data removed]",
      "text/plain": [
       "<Figure size 1440x720 with 1 Axes>"
      ]
     },
     "metadata": {
      "needs_background": "light"
     },
     "output_type": "display_data"
    }
   ],
   "source": [
    "plt.figure(figsize=(20,10))\n",
    "\n",
    "plt.yscale('log')\n",
    "\n",
    "plt.xticks(rotation='vertical')\n",
    "\n",
    "plt.title('Unicorn companies\\' valuation by country')\n",
    "\n",
    "graph = sns.boxplot(x = 'Country', y = 'Valuation ($B) ', data = df)\n",
    "\n",
    "graph.set_ylim(1)"
   ]
  },
  {
   "cell_type": "code",
   "execution_count": null,
   "id": "24e9e241",
   "metadata": {},
   "outputs": [],
   "source": []
  }
 ],
 "metadata": {
  "kernelspec": {
   "display_name": "Python 3 (ipykernel)",
   "language": "python",
   "name": "python3"
  },
  "language_info": {
   "codemirror_mode": {
    "name": "ipython",
    "version": 3
   },
   "file_extension": ".py",
   "mimetype": "text/x-python",
   "name": "python",
   "nbconvert_exporter": "python",
   "pygments_lexer": "ipython3",
   "version": "3.9.12"
  }
 },
 "nbformat": 4,
 "nbformat_minor": 5
}
