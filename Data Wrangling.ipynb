{
 "cells": [
  {
   "cell_type": "code",
   "execution_count": 34,
   "id": "d9a953de",
   "metadata": {},
   "outputs": [],
   "source": [
    "import pandas as pd\n",
    "import numpy as np\n",
    "import datetime"
   ]
  },
  {
   "cell_type": "code",
   "execution_count": 35,
   "id": "682fb8b8",
   "metadata": {},
   "outputs": [
    {
     "data": {
      "text/html": [
       "<div>\n",
       "<style scoped>\n",
       "    .dataframe tbody tr th:only-of-type {\n",
       "        vertical-align: middle;\n",
       "    }\n",
       "\n",
       "    .dataframe tbody tr th {\n",
       "        vertical-align: top;\n",
       "    }\n",
       "\n",
       "    .dataframe thead th {\n",
       "        text-align: right;\n",
       "    }\n",
       "</style>\n",
       "<table border=\"1\" class=\"dataframe\">\n",
       "  <thead>\n",
       "    <tr style=\"text-align: right;\">\n",
       "      <th></th>\n",
       "      <th>Company</th>\n",
       "      <th>Valuation ($B)</th>\n",
       "      <th>Date Added</th>\n",
       "      <th>Country</th>\n",
       "      <th>Category</th>\n",
       "      <th>Select Investors</th>\n",
       "    </tr>\n",
       "  </thead>\n",
       "  <tbody>\n",
       "    <tr>\n",
       "      <th>0</th>\n",
       "      <td>Bytedance</td>\n",
       "      <td>$140.00</td>\n",
       "      <td>4/7/17</td>\n",
       "      <td>China</td>\n",
       "      <td>Artificial intelligence</td>\n",
       "      <td>Sequoia Capital, SIG Asia Investments, Sina We...</td>\n",
       "    </tr>\n",
       "    <tr>\n",
       "      <th>1</th>\n",
       "      <td>SpaceX</td>\n",
       "      <td>$100.30</td>\n",
       "      <td>12/1/12</td>\n",
       "      <td>United States</td>\n",
       "      <td>Other</td>\n",
       "      <td>Founders Fund, Draper, Rothenberg Ventures</td>\n",
       "    </tr>\n",
       "    <tr>\n",
       "      <th>2</th>\n",
       "      <td>Stripe</td>\n",
       "      <td>$95.00</td>\n",
       "      <td>1/23/14</td>\n",
       "      <td>United States</td>\n",
       "      <td>Fintech</td>\n",
       "      <td>Khosla Ventures, Lowercase Capital, capitalG</td>\n",
       "    </tr>\n",
       "    <tr>\n",
       "      <th>3</th>\n",
       "      <td>Klarna</td>\n",
       "      <td>$45.60</td>\n",
       "      <td>12/12/11</td>\n",
       "      <td>Sweden</td>\n",
       "      <td>Fintech</td>\n",
       "      <td>Institutional Venture Partners, Sequoia Capita...</td>\n",
       "    </tr>\n",
       "    <tr>\n",
       "      <th>4</th>\n",
       "      <td>Canva</td>\n",
       "      <td>$40.00</td>\n",
       "      <td>1/8/18</td>\n",
       "      <td>Australia</td>\n",
       "      <td>Internet software &amp; services</td>\n",
       "      <td>Sequoia Capital, Blackbird Ventures, Matrix Pa...</td>\n",
       "    </tr>\n",
       "  </tbody>\n",
       "</table>\n",
       "</div>"
      ],
      "text/plain": [
       "     Company Valuation ($B)  Date Added        Country  \\\n",
       "0  Bytedance         $140.00     4/7/17          China   \n",
       "1     SpaceX         $100.30    12/1/12  United States   \n",
       "2     Stripe          $95.00    1/23/14  United States   \n",
       "3     Klarna          $45.60   12/12/11         Sweden   \n",
       "4      Canva          $40.00     1/8/18      Australia   \n",
       "\n",
       "                       Category  \\\n",
       "0       Artificial intelligence   \n",
       "1                         Other   \n",
       "2                       Fintech   \n",
       "3                       Fintech   \n",
       "4  Internet software & services   \n",
       "\n",
       "                                    Select Investors  \n",
       "0  Sequoia Capital, SIG Asia Investments, Sina We...  \n",
       "1         Founders Fund, Draper, Rothenberg Ventures  \n",
       "2       Khosla Ventures, Lowercase Capital, capitalG  \n",
       "3  Institutional Venture Partners, Sequoia Capita...  \n",
       "4  Sequoia Capital, Blackbird Ventures, Matrix Pa...  "
      ]
     },
     "execution_count": 35,
     "metadata": {},
     "output_type": "execute_result"
    }
   ],
   "source": [
    "uni_df = pd.read_csv('unicorn_companies.csv')\n",
    "uni_df.head()"
   ]
  },
  {
   "cell_type": "markdown",
   "id": "62176fdd",
   "metadata": {},
   "source": [
    "Check the features' data types:"
   ]
  },
  {
   "cell_type": "code",
   "execution_count": 36,
   "id": "68d7d46b",
   "metadata": {},
   "outputs": [
    {
     "data": {
      "text/plain": [
       "Company             object\n",
       "Valuation ($B)      object\n",
       "Date Added          object\n",
       "Country             object\n",
       "Category            object\n",
       "Select Investors    object\n",
       "dtype: object"
      ]
     },
     "execution_count": 36,
     "metadata": {},
     "output_type": "execute_result"
    }
   ],
   "source": [
    "uni_df.dtypes"
   ]
  },
  {
   "cell_type": "markdown",
   "id": "fe77a4df",
   "metadata": {},
   "source": [
    "Based on the contextual meaning of data in the set, it is better to transform Valuation and Date Added to float and date formats respectively to have more flexibility working with them later."
   ]
  },
  {
   "cell_type": "code",
   "execution_count": 37,
   "id": "a05b223d",
   "metadata": {
    "scrolled": true
   },
   "outputs": [
    {
     "name": "stderr",
     "output_type": "stream",
     "text": [
      "/var/folders/4k/p82h_fr17cj28l5580_79wp80000gn/T/ipykernel_65642/1185216977.py:1: FutureWarning: The default value of regex will change from True to False in a future version. In addition, single character regular expressions will *not* be treated as literal strings when regex=True.\n",
      "  uni_df['Valuation ($B) '] = uni_df['Valuation ($B) '].str.replace('$','').astype('float')\n"
     ]
    },
    {
     "data": {
      "text/plain": [
       "Company                     object\n",
       "Valuation ($B)             float64\n",
       "Date Added          datetime64[ns]\n",
       "Country                     object\n",
       "Category                    object\n",
       "Select Investors            object\n",
       "dtype: object"
      ]
     },
     "execution_count": 37,
     "metadata": {},
     "output_type": "execute_result"
    }
   ],
   "source": [
    "uni_df['Valuation ($B) '] = uni_df['Valuation ($B) '].str.replace('$','').astype('float')\n",
    "uni_df['Date Added'] = pd.to_datetime(uni_df['Date Added'])\n",
    "uni_df.dtypes"
   ]
  },
  {
   "cell_type": "markdown",
   "id": "ab3ba510",
   "metadata": {},
   "source": [
    "Check categorical values to make sure there are no mistakes:"
   ]
  },
  {
   "cell_type": "code",
   "execution_count": 38,
   "id": "8f15fe74",
   "metadata": {},
   "outputs": [
    {
     "name": "stdout",
     "output_type": "stream",
     "text": [
      "['Artificial intelligence' 'Other' 'Fintech'\n",
      " 'Internet software & services' 'Supply chain, logistics, & delivery'\n",
      " 'Data management & analytics' 'Edtech' 'E-commerce & direct-to-consumer'\n",
      " 'Hardware' 'Auto & transportation' 'Health' 'Consumer & retail'\n",
      " 'Finttech' 'Travel' 'Cybersecurity' 'Mobile & telecommunications'\n",
      " 'Artificial Intelligence'] \n",
      " Unique number of Category values 17\n"
     ]
    }
   ],
   "source": [
    "print(uni_df['Category'].unique(), '\\n Unique number of Category values',len(uni_df['Category'].unique()))"
   ]
  },
  {
   "cell_type": "markdown",
   "id": "0218a4fe",
   "metadata": {},
   "source": [
    "There are two pairs of logically equal values with some mistakes in spelling:\n",
    "- 'Artificial intelligence' / 'Artificial Intelligence'\n",
    "- 'Fintech' / 'Finttech'\n",
    "\n",
    "Replace them with uniform values."
   ]
  },
  {
   "cell_type": "code",
   "execution_count": 39,
   "id": "bad03828",
   "metadata": {},
   "outputs": [
    {
     "name": "stdout",
     "output_type": "stream",
     "text": [
      "['Artificial Intelligence' 'Other' 'Fintech'\n",
      " 'Internet software & services' 'Supply chain, logistics, & delivery'\n",
      " 'Data management & analytics' 'Edtech' 'E-commerce & direct-to-consumer'\n",
      " 'Hardware' 'Auto & transportation' 'Health' 'Consumer & retail' 'Travel'\n",
      " 'Cybersecurity' 'Mobile & telecommunications'] \n",
      " Unique number of Category values after cleansing 15\n"
     ]
    }
   ],
   "source": [
    "uni_df['Category'] = uni_df['Category'].replace('Artificial intelligence', 'Artificial Intelligence')\n",
    "uni_df['Category'] = uni_df['Category'].replace('Finttech', 'Fintech')\n",
    "print(uni_df['Category'].unique(), '\\n Unique number of Category values after cleansing',len(uni_df['Category'].unique()))"
   ]
  },
  {
   "cell_type": "markdown",
   "id": "4258872b",
   "metadata": {},
   "source": [
    "Same with the countries:"
   ]
  },
  {
   "cell_type": "code",
   "execution_count": 40,
   "id": "74a36d4a",
   "metadata": {},
   "outputs": [
    {
     "name": "stdout",
     "output_type": "stream",
     "text": [
      "['China' 'United States' 'Sweden' 'Australia' 'United Kingdom' 'Brazil'\n",
      " 'Hong Kong' 'India' 'Singapore' 'Germany' 'Mexico' 'Indonesia' 'Canada'\n",
      " 'Turkey' 'South Korea' 'Netherlands' 'Israel' 'Colombia' 'Belgium'\n",
      " 'Estonia' 'Lithuania' 'France' 'Austria' 'Ireland' 'Vietnam'\n",
      " 'United Arab Emirates' 'Switzerland' 'Argentina' 'Japan' 'Luxembourg'\n",
      " 'Nigeria' 'Santa Clara' 'Finland' 'Philippines' 'Denmark' 'Senegal'\n",
      " 'Bermuda' 'Norway' 'South Africa' 'Chile' 'Thailand' 'Spain' 'Malaysia'\n",
      " 'Czech Republic' 'Croatia' 'United States,' 'Indonesia,'] \n",
      " Unique number of Country values 47\n",
      "\n",
      " Unique number of Country values after cleansing 45\n"
     ]
    }
   ],
   "source": [
    "print(uni_df['Country'].unique(), '\\n Unique number of Country values',len(uni_df['Country'].unique()))\n",
    "uni_df['Country'] = uni_df['Country'].replace('United States,', 'United States of America')\n",
    "uni_df['Country'] = uni_df['Country'].replace('United States', 'United States of America')\n",
    "uni_df['Country'] = uni_df['Country'].replace('Indonesia,', 'Indonesia')\n",
    "print('\\n Unique number of Country values after cleansing',len(uni_df['Country'].unique()))"
   ]
  },
  {
   "cell_type": "markdown",
   "id": "099cb43f",
   "metadata": {},
   "source": [
    "Set categorical features as category data type:"
   ]
  },
  {
   "cell_type": "code",
   "execution_count": 41,
   "id": "55397a72",
   "metadata": {},
   "outputs": [
    {
     "data": {
      "text/plain": [
       "Company                     object\n",
       "Valuation ($B)             float64\n",
       "Date Added          datetime64[ns]\n",
       "Country                   category\n",
       "Category                  category\n",
       "Select Investors            object\n",
       "dtype: object"
      ]
     },
     "execution_count": 41,
     "metadata": {},
     "output_type": "execute_result"
    }
   ],
   "source": [
    "uni_df['Country'] = uni_df['Country'].astype(\"category\")\n",
    "uni_df['Category'] = uni_df['Category'].astype(\"category\")\n",
    "uni_df.dtypes"
   ]
  },
  {
   "cell_type": "markdown",
   "id": "ebf947a1",
   "metadata": {},
   "source": [
    "Check missing values:"
   ]
  },
  {
   "cell_type": "code",
   "execution_count": 42,
   "id": "b80cc79a",
   "metadata": {},
   "outputs": [
    {
     "name": "stdout",
     "output_type": "stream",
     "text": [
      "Company\n",
      "False    917\n",
      "Name: Company, dtype: int64\n",
      "\n",
      "Valuation ($B) \n",
      "False    917\n",
      "Name: Valuation ($B) , dtype: int64\n",
      "\n",
      "Date Added\n",
      "False    917\n",
      "Name: Date Added, dtype: int64\n",
      "\n",
      "Country\n",
      "False    917\n",
      "Name: Country, dtype: int64\n",
      "\n",
      "Category\n",
      "False    917\n",
      "Name: Category, dtype: int64\n",
      "\n",
      "Select Investors\n",
      "False    916\n",
      "True       1\n",
      "Name: Select Investors, dtype: int64\n",
      "\n"
     ]
    }
   ],
   "source": [
    "missing_data = uni_df.isnull()\n",
    "\n",
    "for column in missing_data.columns.values.tolist(): # prints how many missing values there is\n",
    "    print(column)\n",
    "    print (missing_data[column].value_counts())\n",
    "    print(\"\")"
   ]
  },
  {
   "cell_type": "markdown",
   "id": "f08ae771",
   "metadata": {},
   "source": [
    "There is one company with missing investors list:"
   ]
  },
  {
   "cell_type": "code",
   "execution_count": 43,
   "id": "678a01a1",
   "metadata": {},
   "outputs": [
    {
     "name": "stdout",
     "output_type": "stream",
     "text": [
      "              Company  Valuation ($B)  Date Added Country  \\\n",
      "705  LinkSure Network              1.0 2015-01-01   China   \n",
      "\n",
      "                        Category Select Investors  \n",
      "705  Mobile & telecommunications              NaN  \n"
     ]
    }
   ],
   "source": [
    "print(uni_df[missing_data['Select Investors']])"
   ]
  },
  {
   "cell_type": "markdown",
   "id": "6243ff4c",
   "metadata": {},
   "source": [
    "Based on publically available information, LinkSure Network's investors are Eight Roads Ventures, Haitong Leading Capital Management, and Northern Light Venture Capital."
   ]
  },
  {
   "cell_type": "code",
   "execution_count": 44,
   "id": "685b5eee",
   "metadata": {
    "scrolled": true
   },
   "outputs": [
    {
     "name": "stdout",
     "output_type": "stream",
     "text": [
      "              Company  Valuation ($B)  Date Added Country  \\\n",
      "705  LinkSure Network              1.0 2015-01-01   China   \n",
      "\n",
      "                        Category  \\\n",
      "705  Mobile & telecommunications   \n",
      "\n",
      "                                      Select Investors  \n",
      "705  Eight Roads Ventures, Haitong Leading Capital ...  \n"
     ]
    }
   ],
   "source": [
    "uni_df.loc[705, 'Select Investors'] = \"Eight Roads Ventures, Haitong Leading Capital Management, Northern Light Venture Capital\"\n",
    "print(uni_df[missing_data['Select Investors']])"
   ]
  },
  {
   "cell_type": "code",
   "execution_count": 45,
   "id": "4018c22f",
   "metadata": {},
   "outputs": [],
   "source": [
    "uni_df.to_csv(path_or_buf='unicorn_companies_cleansed.csv')"
   ]
  }
 ],
 "metadata": {
  "kernelspec": {
   "display_name": "Python 3 (ipykernel)",
   "language": "python",
   "name": "python3"
  },
  "language_info": {
   "codemirror_mode": {
    "name": "ipython",
    "version": 3
   },
   "file_extension": ".py",
   "mimetype": "text/x-python",
   "name": "python",
   "nbconvert_exporter": "python",
   "pygments_lexer": "ipython3",
   "version": "3.9.12"
  }
 },
 "nbformat": 4,
 "nbformat_minor": 5
}
